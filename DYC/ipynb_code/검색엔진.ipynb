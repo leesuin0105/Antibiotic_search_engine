{
 "cells": [
  {
   "cell_type": "code",
   "execution_count": 39,
   "id": "e7217e67-c08c-431b-a8a6-afab33de904e",
   "metadata": {},
   "outputs": [
    {
     "name": "stdin",
     "output_type": "stream",
     "text": [
      "증상을 입력하세요:  기침,발열\n"
     ]
    },
    {
     "name": "stdout",
     "output_type": "stream",
     "text": [
      "      진단명(한국어)  카운트\n",
      "79  마이코플라즈마 폐렴  998\n",
      "99  마이코플라즈마 감염  818\n"
     ]
    }
   ],
   "source": [
    "import pandas as pd\n",
    "\n",
    "# 엑셀 파일 로드\n",
    "file_path = 'D:/Programming/Jupyter/02.data/데청캠/진단명리스트.csv'\n",
    "df = pd.read_csv(file_path)\n",
    "\n",
    "# 사용자 입력 받기\n",
    "search_symptom = input('증상을 입력하세요: ')\n",
    "\n",
    "# 검색 및 필터링\n",
    "filtered_data = df[df['증상명'].str.contains(search_symptom, case=False, na=False)]\n",
    "\n",
    "# '진단명(한국어)' 열과 '카운트' 열 출력\n",
    "diagnosis_korean_with_count = filtered_data[['진단명(한국어)', '카운트']]\n",
    "print(diagnosis_korean_with_count)"
   ]
  },
  {
   "cell_type": "code",
   "execution_count": 36,
   "id": "67c2ae63-df33-4e1d-8113-bec5b1b7d793",
   "metadata": {},
   "outputs": [
    {
     "name": "stdout",
     "output_type": "stream",
     "text": [
      "         진단명(한국어)                                                약품명    개수\n",
      "85     마이코플라즈마 폐렴                                        Clari 250mg  3268\n",
      "142    마이코플라즈마 폐렴                                     Gentamicin inj  2267\n",
      "149    마이코플라즈마 폐렴                                         Amocla inj  2182\n",
      "211    마이코플라즈마 폐렴  Moxicle 0.6g inj =>(안전성 문제) Augmentin 0.6 inj으...  1684\n",
      "449    마이코플라즈마 감염                                         Amocla inj   982\n",
      "...           ...                                                ...   ...\n",
      "32571  마이코플라즈마 감염                                       Famcivir 250     1\n",
      "32572  마이코플라즈마 감염                                        Duricef syr     1\n",
      "32573  마이코플라즈마 감염                                             Cravit     1\n",
      "32574  마이코플라즈마 감염                                        Cephamethyl     1\n",
      "32578  마이코플라즈마 감염                                          Augmentin     1\n",
      "\n",
      "[131 rows x 3 columns]\n"
     ]
    }
   ],
   "source": [
    "# 진단명(한국어)으로 필터링하여 약품명 찾기\n",
    "medicine_file_path = 'D:/Programming/Jupyter/02.data/데청캠/약순위.xlsx'\n",
    "medicine_df = pd.read_excel(medicine_file_path)\n",
    "\n",
    "# 진단명(한국어)에 해당하는 약품명 필터링\n",
    "result = medicine_df[medicine_df['진단명(한국어)'].isin(diagnosis_korean_with_count['진단명(한국어)'])]\n",
    "\n",
    "# 결과 출력\n",
    "print(result[['진단명(한국어)', '약품명', '개수']])"
   ]
  },
  {
   "cell_type": "code",
   "execution_count": null,
   "id": "cf6a541a-7423-4631-bce4-f661d5855a8a",
   "metadata": {},
   "outputs": [],
   "source": []
  }
 ],
 "metadata": {
  "kernelspec": {
   "display_name": "Python 3 (ipykernel)",
   "language": "python",
   "name": "python3"
  },
  "language_info": {
   "codemirror_mode": {
    "name": "ipython",
    "version": 3
   },
   "file_extension": ".py",
   "mimetype": "text/x-python",
   "name": "python",
   "nbconvert_exporter": "python",
   "pygments_lexer": "ipython3",
   "version": "3.10.9"
  }
 },
 "nbformat": 4,
 "nbformat_minor": 5
}
